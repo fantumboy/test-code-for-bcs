{
 "cells": [
  {
   "cell_type": "markdown",
   "id": "26581d50-cf0c-4fbb-9b23-a5f6214247b4",
   "metadata": {},
   "source": [
    "getting it started."
   ]
  },
  {
   "cell_type": "code",
   "execution_count": 116,
   "id": "4020826b-e010-45d6-937e-ec37c9141af0",
   "metadata": {
    "tags": []
   },
   "outputs": [
    {
     "data": {
      "text/html": [
       "<div>\n",
       "<style scoped>\n",
       "    .dataframe tbody tr th:only-of-type {\n",
       "        vertical-align: middle;\n",
       "    }\n",
       "\n",
       "    .dataframe tbody tr th {\n",
       "        vertical-align: top;\n",
       "    }\n",
       "\n",
       "    .dataframe thead th {\n",
       "        text-align: right;\n",
       "    }\n",
       "</style>\n",
       "<table border=\"1\" class=\"dataframe\">\n",
       "  <thead>\n",
       "    <tr style=\"text-align: right;\">\n",
       "      <th></th>\n",
       "      <th>School ID</th>\n",
       "      <th>school_name</th>\n",
       "      <th>type</th>\n",
       "      <th>size</th>\n",
       "      <th>budget</th>\n",
       "      <th>Student ID</th>\n",
       "      <th>student_name</th>\n",
       "      <th>gender</th>\n",
       "      <th>grade</th>\n",
       "      <th>reading_score</th>\n",
       "      <th>math_score</th>\n",
       "    </tr>\n",
       "  </thead>\n",
       "  <tbody>\n",
       "    <tr>\n",
       "      <th>0</th>\n",
       "      <td>0</td>\n",
       "      <td>Huang High School</td>\n",
       "      <td>District</td>\n",
       "      <td>2917</td>\n",
       "      <td>1910635</td>\n",
       "      <td>0</td>\n",
       "      <td>Paul Bradley</td>\n",
       "      <td>M</td>\n",
       "      <td>9th</td>\n",
       "      <td>66</td>\n",
       "      <td>79</td>\n",
       "    </tr>\n",
       "    <tr>\n",
       "      <th>1</th>\n",
       "      <td>0</td>\n",
       "      <td>Huang High School</td>\n",
       "      <td>District</td>\n",
       "      <td>2917</td>\n",
       "      <td>1910635</td>\n",
       "      <td>1</td>\n",
       "      <td>Victor Smith</td>\n",
       "      <td>M</td>\n",
       "      <td>12th</td>\n",
       "      <td>94</td>\n",
       "      <td>61</td>\n",
       "    </tr>\n",
       "    <tr>\n",
       "      <th>2</th>\n",
       "      <td>0</td>\n",
       "      <td>Huang High School</td>\n",
       "      <td>District</td>\n",
       "      <td>2917</td>\n",
       "      <td>1910635</td>\n",
       "      <td>2</td>\n",
       "      <td>Kevin Rodriguez</td>\n",
       "      <td>M</td>\n",
       "      <td>12th</td>\n",
       "      <td>90</td>\n",
       "      <td>60</td>\n",
       "    </tr>\n",
       "    <tr>\n",
       "      <th>3</th>\n",
       "      <td>0</td>\n",
       "      <td>Huang High School</td>\n",
       "      <td>District</td>\n",
       "      <td>2917</td>\n",
       "      <td>1910635</td>\n",
       "      <td>3</td>\n",
       "      <td>Dr. Richard Scott</td>\n",
       "      <td>M</td>\n",
       "      <td>12th</td>\n",
       "      <td>67</td>\n",
       "      <td>58</td>\n",
       "    </tr>\n",
       "    <tr>\n",
       "      <th>4</th>\n",
       "      <td>0</td>\n",
       "      <td>Huang High School</td>\n",
       "      <td>District</td>\n",
       "      <td>2917</td>\n",
       "      <td>1910635</td>\n",
       "      <td>4</td>\n",
       "      <td>Bonnie Ray</td>\n",
       "      <td>F</td>\n",
       "      <td>9th</td>\n",
       "      <td>97</td>\n",
       "      <td>84</td>\n",
       "    </tr>\n",
       "  </tbody>\n",
       "</table>\n",
       "</div>"
      ],
      "text/plain": [
       "   School ID        school_name      type  size   budget  Student ID  \\\n",
       "0          0  Huang High School  District  2917  1910635           0   \n",
       "1          0  Huang High School  District  2917  1910635           1   \n",
       "2          0  Huang High School  District  2917  1910635           2   \n",
       "3          0  Huang High School  District  2917  1910635           3   \n",
       "4          0  Huang High School  District  2917  1910635           4   \n",
       "\n",
       "        student_name gender grade  reading_score  math_score  \n",
       "0       Paul Bradley      M   9th             66          79  \n",
       "1       Victor Smith      M  12th             94          61  \n",
       "2    Kevin Rodriguez      M  12th             90          60  \n",
       "3  Dr. Richard Scott      M  12th             67          58  \n",
       "4         Bonnie Ray      F   9th             97          84  "
      ]
     },
     "execution_count": 116,
     "metadata": {},
     "output_type": "execute_result"
    }
   ],
   "source": [
    "import pandas as pd\n",
    "from pathlib import Path\n",
    "\n",
    "school_data_file = Path(\"Starter_Code/PyCitySchools/Resources/schools_complete.csv\")\n",
    "student_data_file = Path(\"Starter_Code/PyCitySchools/Resources/students_complete.csv\")\n",
    "\n",
    "school_data = pd.read_csv(school_data_file)\n",
    "student_data = pd.read_csv(student_data_file)\n",
    "\n",
    "merged_data = pd.merge(school_data, student_data, how = \"left\", on = [\"school_name\", \"school_name\"])\n",
    "merged_data.head()"
   ]
  },
  {
   "cell_type": "code",
   "execution_count": 117,
   "id": "624cf05d-cbe3-4e32-899c-c7e47726f39c",
   "metadata": {
    "tags": []
   },
   "outputs": [
    {
     "data": {
      "text/plain": [
       "15"
      ]
     },
     "execution_count": 117,
     "metadata": {},
     "output_type": "execute_result"
    }
   ],
   "source": [
    "# DISTRICT SUMMARY\n",
    "\n",
    "# Calculate the total number of unique schools (2 points)\n",
    "#    https://sparkbyexamples.com/pandas/pandas-count-unique-values-in-column/?expand_article=1\n",
    "\n",
    "schools_in_district = merged_data[\"school_name\"].nunique()\n",
    "schools_in_district"
   ]
  },
  {
   "cell_type": "code",
   "execution_count": 118,
   "id": "ab241f53-fc74-4956-a37f-85b95a572f2e",
   "metadata": {
    "tags": []
   },
   "outputs": [
    {
     "data": {
      "text/plain": [
       "39170"
      ]
     },
     "execution_count": 118,
     "metadata": {},
     "output_type": "execute_result"
    }
   ],
   "source": [
    "# Calculate the total number of students (2 points)\n",
    "\n",
    "total_students = merged_data[\"student_name\"].count()\n",
    "total_students"
   ]
  },
  {
   "cell_type": "code",
   "execution_count": 119,
   "id": "7e45ec45-5c6c-48f5-9712-f02064cf3644",
   "metadata": {
    "tags": []
   },
   "outputs": [
    {
     "data": {
      "text/plain": [
       "24649428"
      ]
     },
     "execution_count": 119,
     "metadata": {},
     "output_type": "execute_result"
    }
   ],
   "source": [
    "# Calculate the total budget (2 points)\n",
    "\n",
    "school_budget_filter = merged_data[['budget', 'school_name']].drop_duplicates()\n",
    "total_budget = school_budget_filter[\"budget\"].sum()\n",
    "total_budget"
   ]
  },
  {
   "cell_type": "code",
   "execution_count": 120,
   "id": "312deb45-b36a-4954-8649-aef3c9a51a2a",
   "metadata": {
    "tags": []
   },
   "outputs": [
    {
     "data": {
      "text/plain": [
       "78.98537145774827"
      ]
     },
     "execution_count": 120,
     "metadata": {},
     "output_type": "execute_result"
    }
   ],
   "source": [
    "# Calculate the average (mean) math score (2 points)\n",
    "\n",
    "tot_math_score = merged_data[\"math_score\"].sum()\n",
    "ave_math_score = tot_math_score / total_students\n",
    "ave_math_score"
   ]
  },
  {
   "cell_type": "code",
   "execution_count": 121,
   "id": "98b29db6-62ec-4137-b539-bf837e6c15db",
   "metadata": {
    "tags": []
   },
   "outputs": [
    {
     "data": {
      "text/plain": [
       "78.98537145774827"
      ]
     },
     "execution_count": 121,
     "metadata": {},
     "output_type": "execute_result"
    }
   ],
   "source": [
    "average_math_score = merged_data[\"math_score\"].mean()\n",
    "average_math_score"
   ]
  },
  {
   "cell_type": "code",
   "execution_count": 122,
   "id": "73048c3b-97c0-4dda-993f-1bda908913ad",
   "metadata": {
    "tags": []
   },
   "outputs": [
    {
     "data": {
      "text/plain": [
       "81.87784018381414"
      ]
     },
     "execution_count": 122,
     "metadata": {},
     "output_type": "execute_result"
    }
   ],
   "source": [
    "# Calculate the average (mean) reading score (2 points)\n",
    "\n",
    "tot_read_score = merged_data[\"reading_score\"].sum()\n",
    "ave_read_score = tot_read_score / total_students\n",
    "ave_read_score"
   ]
  },
  {
   "cell_type": "code",
   "execution_count": 123,
   "id": "5e74091b-f5fd-4394-9b87-7b7bdc32af7b",
   "metadata": {
    "tags": []
   },
   "outputs": [
    {
     "data": {
      "text/plain": [
       "74.9808526933878"
      ]
     },
     "execution_count": 123,
     "metadata": {},
     "output_type": "execute_result"
    }
   ],
   "source": [
    "# Use the code provided to calculate the percentage of students who passed math (2 points)\n",
    "\n",
    "pass_math_count = merged_data[(merged_data[\"math_score\"] >= 70)].count()[\"student_name\"]\n",
    "pass_math_percent = 100 * (pass_math_count / total_students)\n",
    "pass_math_percent"
   ]
  },
  {
   "cell_type": "code",
   "execution_count": 124,
   "id": "ff694338-e258-4c41-88dd-be5203b0486a",
   "metadata": {
    "tags": []
   },
   "outputs": [
    {
     "data": {
      "text/plain": [
       "85.80546336482001"
      ]
     },
     "execution_count": 124,
     "metadata": {},
     "output_type": "execute_result"
    }
   ],
   "source": [
    "# Calculate the percentage of students who passed reading (2 points)\n",
    "\n",
    "pass_read_count = merged_data[(merged_data[\"reading_score\"] >= 70)].count()[\"student_name\"]\n",
    "pass_read_percent = 100 * (pass_read_count / total_students)\n",
    "pass_read_percent"
   ]
  },
  {
   "cell_type": "code",
   "execution_count": 125,
   "id": "dbd8df54-8e3b-40ac-b774-6e48ba05b38a",
   "metadata": {
    "tags": []
   },
   "outputs": [
    {
     "data": {
      "text/plain": [
       "65.17232575950983"
      ]
     },
     "execution_count": 125,
     "metadata": {},
     "output_type": "execute_result"
    }
   ],
   "source": [
    "# Use the code provided to calculate the percentage of students that passed both math and reading (2 points)\n",
    "\n",
    "pass_math_read_count = merged_data[(merged_data[\"math_score\"] >= 70) & (merged_data[\"reading_score\"] >= 70)].count()[\"student_name\"]\n",
    "pass_math_read_percent = 100 * (pass_math_read_count /  total_students)\n",
    "pass_math_read_percent"
   ]
  },
  {
   "cell_type": "code",
   "execution_count": 126,
   "id": "84955cf0-064e-4bb0-8cab-c837e1495f5d",
   "metadata": {
    "tags": []
   },
   "outputs": [
    {
     "data": {
      "text/html": [
       "<div>\n",
       "<style scoped>\n",
       "    .dataframe tbody tr th:only-of-type {\n",
       "        vertical-align: middle;\n",
       "    }\n",
       "\n",
       "    .dataframe tbody tr th {\n",
       "        vertical-align: top;\n",
       "    }\n",
       "\n",
       "    .dataframe thead th {\n",
       "        text-align: right;\n",
       "    }\n",
       "</style>\n",
       "<table border=\"1\" class=\"dataframe\">\n",
       "  <thead>\n",
       "    <tr style=\"text-align: right;\">\n",
       "      <th></th>\n",
       "      <th>Total Schools</th>\n",
       "      <th>Total Students</th>\n",
       "      <th>Total Budget</th>\n",
       "      <th>Average Math Score</th>\n",
       "      <th>Average Reading Score</th>\n",
       "      <th>% Passing Math</th>\n",
       "      <th>% Passing Reading</th>\n",
       "      <th>% Overall Passing</th>\n",
       "    </tr>\n",
       "  </thead>\n",
       "  <tbody>\n",
       "    <tr>\n",
       "      <th>0</th>\n",
       "      <td>15</td>\n",
       "      <td>39,170</td>\n",
       "      <td>$24,649,428.00</td>\n",
       "      <td>78.985371</td>\n",
       "      <td>81.87784</td>\n",
       "      <td>74.980853</td>\n",
       "      <td>85.805463</td>\n",
       "      <td>65.172326</td>\n",
       "    </tr>\n",
       "  </tbody>\n",
       "</table>\n",
       "</div>"
      ],
      "text/plain": [
       "   Total Schools Total Students    Total Budget  Average Math Score  \\\n",
       "0             15         39,170  $24,649,428.00           78.985371   \n",
       "\n",
       "   Average Reading Score  % Passing Math  % Passing Reading  % Overall Passing  \n",
       "0               81.87784       74.980853          85.805463          65.172326  "
      ]
     },
     "execution_count": 126,
     "metadata": {},
     "output_type": "execute_result"
    }
   ],
   "source": [
    "# Create a new DataFrame for the above calculations called district_summary (4 points)\n",
    "#    https://www.youtube.com/watch?v=1kpnp4HMIv0\n",
    "#    bcs memi\n",
    "district_summary = pd.DataFrame({\n",
    "    'Total Schools':[schools_in_district],\n",
    "    'Total Students':[total_students],\n",
    "    'Total Budget':[total_budget],\n",
    "    'Average Math Score':[ave_math_score],\n",
    "    'Average Reading Score':[ave_read_score],\n",
    "    '% Passing Math':[pass_math_percent],\n",
    "    '% Passing Reading':[pass_read_percent],\n",
    "    '% Overall Passing':[pass_math_read_percent]\n",
    "})\n",
    "\n",
    "district_summary[\"Total Students\"] = district_summary[\"Total Students\"].map(\"{:,}\".format)\n",
    "district_summary[\"Total Budget\"] = district_summary[\"Total Budget\"].map(\"${:,.2f}\".format)\n",
    "district_summary"
   ]
  },
  {
   "cell_type": "code",
   "execution_count": 127,
   "id": "63191c21-efa8-4207-a88d-d58468c6c947",
   "metadata": {},
   "outputs": [
    {
     "data": {
      "text/plain": [
       "school_name\n",
       "Huang High School        District\n",
       "Figueroa High School     District\n",
       "Shelton High School       Charter\n",
       "Hernandez High School    District\n",
       "Griffin High School       Charter\n",
       "Wilson High School        Charter\n",
       "Cabrera High School       Charter\n",
       "Bailey High School       District\n",
       "Holden High School        Charter\n",
       "Pena High School          Charter\n",
       "Wright High School        Charter\n",
       "Rodriguez High School    District\n",
       "Johnson High School      District\n",
       "Ford High School         District\n",
       "Thomas High School        Charter\n",
       "Name: type, dtype: object"
      ]
     },
     "execution_count": 127,
     "metadata": {},
     "output_type": "execute_result"
    }
   ],
   "source": [
    "# SCHOOL SUMMARY\n",
    "\n",
    "# Use the code provided to select the school type (2 points)\n",
    "\n",
    "school_types = school_data.set_index([\"school_name\"])[\"type\"]\n",
    "school_types"
   ]
  },
  {
   "cell_type": "code",
   "execution_count": 128,
   "id": "38c73000-cf73-48c8-b444-9c0d1f29db1a",
   "metadata": {},
   "outputs": [
    {
     "data": {
      "text/plain": [
       "school_name          \n",
       "Bailey High School       4976\n",
       "Johnson High School      4761\n",
       "Hernandez High School    4635\n",
       "Rodriguez High School    3999\n",
       "Figueroa High School     2949\n",
       "Huang High School        2917\n",
       "Ford High School         2739\n",
       "Wilson High School       2283\n",
       "Cabrera High School      1858\n",
       "Wright High School       1800\n",
       "Shelton High School      1761\n",
       "Thomas High School       1635\n",
       "Griffin High School      1468\n",
       "Pena High School          962\n",
       "Holden High School        427\n",
       "dtype: int64"
      ]
     },
     "execution_count": 128,
     "metadata": {},
     "output_type": "execute_result"
    }
   ],
   "source": [
    "# Calculate the total student count per school(2 points)\n",
    "\n",
    "students_per_school = merged_data[[\"school_name\"]].value_counts()\n",
    "students_per_school"
   ]
  },
  {
   "cell_type": "code",
   "execution_count": 129,
   "id": "0ee522df-7019-4f80-b5f2-c75603557228",
   "metadata": {},
   "outputs": [
    {
     "data": {
      "text/plain": [
       "Bailey High School       628.0\n",
       "Cabrera High School      582.0\n",
       "Figueroa High School     639.0\n",
       "Ford High School         644.0\n",
       "Griffin High School      625.0\n",
       "Hernandez High School    652.0\n",
       "Holden High School       581.0\n",
       "Huang High School        655.0\n",
       "Johnson High School      650.0\n",
       "Pena High School         609.0\n",
       "Rodriguez High School    637.0\n",
       "Shelton High School      600.0\n",
       "Thomas High School       638.0\n",
       "Wilson High School       578.0\n",
       "Wright High School       583.0\n",
       "dtype: float64"
      ]
     },
     "execution_count": 129,
     "metadata": {},
     "output_type": "execute_result"
    }
   ],
   "source": [
    "# Use the code provided to calculate the per capita spending (2 points)\n",
    "\n",
    "#out = df.groupby('year')['operation'].value_counts ??\n",
    "\n",
    "budget_capita = merged_data[\"school_name\"].value_counts()\n",
    "#budget_capita_df = pd.DataFrame(budget_capita)\n",
    "#budget_capita_df[\"per capita\"] = budget_capita_df[\"budget\"] / budget_capita_df[\"\"]\n",
    "#school_budget_capita = budget_capita.loc[\"budget\"]/students_per_school\n",
    "\n",
    "#budget_capita_df[\"per capita\"] = budget_capita[\"budget\"] / budget_capita[\"0\"]\n",
    "budget_capita\n",
    "\n",
    "#school_budget = merged_data.groupby([\"school_name\"])[\"budget\"].mean()\n",
    "#school_budget[\"per capita\"] = school_budget[1]/students_per_school[1]\n",
    "\n",
    "school_budget = merged_data.groupby([\"school_name\"])[\"budget\"].mean()\n",
    "#school_budget = pd.DataFrame\n",
    "#school_budget[\"per capita\"] = school_budget[1]/students_per_school[1]\n",
    "school_budget\n",
    "\n",
    "per_capita = school_budget / budget_capita\n",
    "per_capita"
   ]
  },
  {
   "cell_type": "code",
   "execution_count": 130,
   "id": "46536b3c-dc9f-4a15-bcb7-a6df90018157",
   "metadata": {},
   "outputs": [],
   "source": [
    "# Calculate the average test scores per school(2 points)\n",
    "\n",
    "per_school_math = merged_data.groupby('school_name')['math_score'].mean()\n",
    "per_school_read = merged_data.groupby('school_name')['reading_score'].mean()\n",
    "#per_school_test_scores = pd.DataFrame({\"school name\": {school_name}, \"average math score\": {per_school_math}, \"average reading score\": {per_school_read}})\n",
    "#per_school_read"
   ]
  },
  {
   "cell_type": "code",
   "execution_count": 131,
   "id": "eff0eec7-2b14-4ef3-aff9-f6b4f7f4940a",
   "metadata": {},
   "outputs": [
    {
     "data": {
      "text/plain": [
       "school_name\n",
       "Bailey High School       3318\n",
       "Cabrera High School      1749\n",
       "Figueroa High School     1946\n",
       "Ford High School         1871\n",
       "Griffin High School      1371\n",
       "Hernandez High School    3094\n",
       "Holden High School        395\n",
       "Huang High School        1916\n",
       "Johnson High School      3145\n",
       "Pena High School          910\n",
       "Rodriguez High School    2654\n",
       "Shelton High School      1653\n",
       "Thomas High School       1525\n",
       "Wilson High School       2143\n",
       "Wright High School       1680\n",
       "dtype: int64"
      ]
     },
     "execution_count": 131,
     "metadata": {},
     "output_type": "execute_result"
    }
   ],
   "source": [
    "# Calculate the number of schools with math scores of 70 or higher (2 points)\n",
    "\n",
    "pass_math_count_school = merged_data[(merged_data[\"math_score\"] >= 70)]\n",
    "pass_math_count_school_final = pass_math_count_school.groupby([\"school_name\"]).size()\n",
    "\n",
    "#merged_data.groupby('school_name')['math_score'].aggregate(['math_score' >= 70])\n",
    "#[merged_data.loc[\"math_score\"] >= 70].count()\n",
    "#pass_math_percent_school = 100 * (pass_math_count_school / students_per_school)\n",
    "pass_math_count_school_final"
   ]
  },
  {
   "cell_type": "code",
   "execution_count": 132,
   "id": "ebf98b45-2e96-4200-867b-849790dd9c74",
   "metadata": {},
   "outputs": [
    {
     "data": {
      "text/plain": [
       "school_name\n",
       "Bailey High School       4077\n",
       "Cabrera High School      1803\n",
       "Figueroa High School     2381\n",
       "Ford High School         2172\n",
       "Griffin High School      1426\n",
       "Hernandez High School    3748\n",
       "Holden High School        411\n",
       "Huang High School        2372\n",
       "Johnson High School      3867\n",
       "Pena High School          923\n",
       "Rodriguez High School    3208\n",
       "Shelton High School      1688\n",
       "Thomas High School       1591\n",
       "Wilson High School       2204\n",
       "Wright High School       1739\n",
       "dtype: int64"
      ]
     },
     "execution_count": 132,
     "metadata": {},
     "output_type": "execute_result"
    }
   ],
   "source": [
    "# Calculate the number of schools with reading scores of 70 or higher (2 points)\n",
    "\n",
    "pass_read_count_school = merged_data[(merged_data[\"reading_score\"] >= 70)]\n",
    "pass_read_count_school_final = pass_read_count_school.groupby([\"school_name\"]).size()\n",
    "pass_read_count_school_final\n",
    "#pass_read "
   ]
  },
  {
   "cell_type": "code",
   "execution_count": 133,
   "id": "5b5220e4-44b1-4e37-89ef-81322fa843f4",
   "metadata": {},
   "outputs": [
    {
     "data": {
      "text/plain": [
       "school_name\n",
       "Bailey High School       2719\n",
       "Cabrera High School      1697\n",
       "Figueroa High School     1569\n",
       "Ford High School         1487\n",
       "Griffin High School      1330\n",
       "Hernandez High School    2481\n",
       "Holden High School        381\n",
       "Huang High School        1561\n",
       "Johnson High School      2549\n",
       "Pena High School          871\n",
       "Rodriguez High School    2119\n",
       "Shelton High School      1583\n",
       "Thomas High School       1487\n",
       "Wilson High School       2068\n",
       "Wright High School       1626\n",
       "dtype: int64"
      ]
     },
     "execution_count": 133,
     "metadata": {},
     "output_type": "execute_result"
    }
   ],
   "source": [
    "# Use the provided code to calculate the schools that passed both math and reading with scores of 70 or higher (2 points)\n",
    "\n",
    "students_passing_math_and_reading = merged_data[\n",
    "    (merged_data[\"reading_score\"] >= 70) & (merged_data[\"math_score\"] >= 70)\n",
    "]\n",
    "school_students_passing_math_and_reading = students_passing_math_and_reading.groupby([\"school_name\"]).size()\n",
    "school_students_passing_math_and_reading"
   ]
  },
  {
   "cell_type": "code",
   "execution_count": 134,
   "id": "e4689e89-b201-443e-a77d-9e8fbb8a5e06",
   "metadata": {},
   "outputs": [
    {
     "data": {
      "text/plain": [
       "(Bailey High School,)      NaN\n",
       "(Cabrera High School,)     NaN\n",
       "(Figueroa High School,)    NaN\n",
       "(Ford High School,)        NaN\n",
       "(Griffin High School,)     NaN\n",
       "(Hernandez High School,)   NaN\n",
       "(Holden High School,)      NaN\n",
       "(Huang High School,)       NaN\n",
       "(Johnson High School,)     NaN\n",
       "(Pena High School,)        NaN\n",
       "(Rodriguez High School,)   NaN\n",
       "(Shelton High School,)     NaN\n",
       "(Thomas High School,)      NaN\n",
       "(Wilson High School,)      NaN\n",
       "(Wright High School,)      NaN\n",
       "Bailey High School         NaN\n",
       "Cabrera High School        NaN\n",
       "Figueroa High School       NaN\n",
       "Ford High School           NaN\n",
       "Griffin High School        NaN\n",
       "Hernandez High School      NaN\n",
       "Holden High School         NaN\n",
       "Huang High School          NaN\n",
       "Johnson High School        NaN\n",
       "Pena High School           NaN\n",
       "Rodriguez High School      NaN\n",
       "Shelton High School        NaN\n",
       "Thomas High School         NaN\n",
       "Wilson High School         NaN\n",
       "Wright High School         NaN\n",
       "dtype: float64"
      ]
     },
     "execution_count": 134,
     "metadata": {},
     "output_type": "execute_result"
    }
   ],
   "source": [
    "# Use the provided code to calculate the passing rates (2 points)\n",
    "\n",
    "school_passing_math_percent = pass_math_count_school_final / students_per_school * 100\n",
    "school_passing_math_percent"
   ]
  },
  {
   "cell_type": "code",
   "execution_count": 140,
   "id": "3e9dad41-2453-459a-b377-c6badfa36758",
   "metadata": {},
   "outputs": [
    {
     "data": {
      "text/plain": [
       "(Bailey High School,)      NaN\n",
       "(Cabrera High School,)     NaN\n",
       "(Figueroa High School,)    NaN\n",
       "(Ford High School,)        NaN\n",
       "(Griffin High School,)     NaN\n",
       "(Hernandez High School,)   NaN\n",
       "(Holden High School,)      NaN\n",
       "(Huang High School,)       NaN\n",
       "(Johnson High School,)     NaN\n",
       "(Pena High School,)        NaN\n",
       "(Rodriguez High School,)   NaN\n",
       "(Shelton High School,)     NaN\n",
       "(Thomas High School,)      NaN\n",
       "(Wilson High School,)      NaN\n",
       "(Wright High School,)      NaN\n",
       "Bailey High School         NaN\n",
       "Cabrera High School        NaN\n",
       "Figueroa High School       NaN\n",
       "Ford High School           NaN\n",
       "Griffin High School        NaN\n",
       "Hernandez High School      NaN\n",
       "Holden High School         NaN\n",
       "Huang High School          NaN\n",
       "Johnson High School        NaN\n",
       "Pena High School           NaN\n",
       "Rodriguez High School      NaN\n",
       "Shelton High School        NaN\n",
       "Thomas High School         NaN\n",
       "Wilson High School         NaN\n",
       "Wright High School         NaN\n",
       "dtype: float64"
      ]
     },
     "execution_count": 140,
     "metadata": {},
     "output_type": "execute_result"
    }
   ],
   "source": [
    "school_passing_read_percent = pass_read_count_school_final / students_per_school * 100\n",
    "school_passing_read_percent"
   ]
  },
  {
   "cell_type": "code",
   "execution_count": 139,
   "id": "0c7bdd4b-e704-4d67-a6af-11a92895600a",
   "metadata": {},
   "outputs": [
    {
     "data": {
      "text/plain": [
       "(Bailey High School,)      NaN\n",
       "(Cabrera High School,)     NaN\n",
       "(Figueroa High School,)    NaN\n",
       "(Ford High School,)        NaN\n",
       "(Griffin High School,)     NaN\n",
       "(Hernandez High School,)   NaN\n",
       "(Holden High School,)      NaN\n",
       "(Huang High School,)       NaN\n",
       "(Johnson High School,)     NaN\n",
       "(Pena High School,)        NaN\n",
       "(Rodriguez High School,)   NaN\n",
       "(Shelton High School,)     NaN\n",
       "(Thomas High School,)      NaN\n",
       "(Wilson High School,)      NaN\n",
       "(Wright High School,)      NaN\n",
       "Bailey High School         NaN\n",
       "Cabrera High School        NaN\n",
       "Figueroa High School       NaN\n",
       "Ford High School           NaN\n",
       "Griffin High School        NaN\n",
       "Hernandez High School      NaN\n",
       "Holden High School         NaN\n",
       "Huang High School          NaN\n",
       "Johnson High School        NaN\n",
       "Pena High School           NaN\n",
       "Rodriguez High School      NaN\n",
       "Shelton High School        NaN\n",
       "Thomas High School         NaN\n",
       "Wilson High School         NaN\n",
       "Wright High School         NaN\n",
       "dtype: float64"
      ]
     },
     "execution_count": 139,
     "metadata": {},
     "output_type": "execute_result"
    }
   ],
   "source": [
    "overall_passing_rate = school_students_passing_math_and_reading / students_per_school * 100\n",
    "overall_passing_rate"
   ]
  },
  {
   "cell_type": "code",
   "execution_count": 138,
   "id": "6c9321f9-d835-4ffd-86b2-9b6426653187",
   "metadata": {},
   "outputs": [
    {
     "data": {
      "text/html": [
       "<div>\n",
       "<style scoped>\n",
       "    .dataframe tbody tr th:only-of-type {\n",
       "        vertical-align: middle;\n",
       "    }\n",
       "\n",
       "    .dataframe tbody tr th {\n",
       "        vertical-align: top;\n",
       "    }\n",
       "\n",
       "    .dataframe thead th {\n",
       "        text-align: right;\n",
       "    }\n",
       "</style>\n",
       "<table border=\"1\" class=\"dataframe\">\n",
       "  <thead>\n",
       "    <tr style=\"text-align: right;\">\n",
       "      <th></th>\n",
       "      <th>School Type</th>\n",
       "      <th>Total Students</th>\n",
       "      <th>Total School Budget</th>\n",
       "      <th>Per Student Budget</th>\n",
       "      <th>Average Math Score</th>\n",
       "      <th>Average Reading Score</th>\n",
       "      <th>% Passing Math</th>\n",
       "      <th>% Passing Reading</th>\n",
       "      <th>% Overall Passing</th>\n",
       "    </tr>\n",
       "  </thead>\n",
       "  <tbody>\n",
       "    <tr>\n",
       "      <th>0</th>\n",
       "      <td>school_name\n",
       "Huang High School        District\n",
       "...</td>\n",
       "      <td>school_name          \n",
       "Bailey High School      ...</td>\n",
       "      <td>school_name\n",
       "Bailey High School       3124928.0...</td>\n",
       "      <td>Bailey High School       628.0\n",
       "Cabrera High Sc...</td>\n",
       "      <td>school_name\n",
       "Bailey High School       77.048432...</td>\n",
       "      <td>school_name\n",
       "Bailey High School       81.033963...</td>\n",
       "      <td>(Bailey High School,)      NaN\n",
       "(Cabrera High S...</td>\n",
       "      <td>(Bailey High School,)      NaN\n",
       "(Cabrera High S...</td>\n",
       "      <td>(Bailey High School,)      NaN\n",
       "(Cabrera High S...</td>\n",
       "    </tr>\n",
       "  </tbody>\n",
       "</table>\n",
       "</div>"
      ],
      "text/plain": [
       "                                         School Type  \\\n",
       "0  school_name\n",
       "Huang High School        District\n",
       "...   \n",
       "\n",
       "                                      Total Students  \\\n",
       "0  school_name          \n",
       "Bailey High School      ...   \n",
       "\n",
       "                                 Total School Budget  \\\n",
       "0  school_name\n",
       "Bailey High School       3124928.0...   \n",
       "\n",
       "                                  Per Student Budget  \\\n",
       "0  Bailey High School       628.0\n",
       "Cabrera High Sc...   \n",
       "\n",
       "                                  Average Math Score  \\\n",
       "0  school_name\n",
       "Bailey High School       77.048432...   \n",
       "\n",
       "                               Average Reading Score  \\\n",
       "0  school_name\n",
       "Bailey High School       81.033963...   \n",
       "\n",
       "                                      % Passing Math  \\\n",
       "0  (Bailey High School,)      NaN\n",
       "(Cabrera High S...   \n",
       "\n",
       "                                   % Passing Reading  \\\n",
       "0  (Bailey High School,)      NaN\n",
       "(Cabrera High S...   \n",
       "\n",
       "                                   % Overall Passing  \n",
       "0  (Bailey High School,)      NaN\n",
       "(Cabrera High S...  "
      ]
     },
     "execution_count": 138,
     "metadata": {},
     "output_type": "execute_result"
    }
   ],
   "source": [
    "# Create a new DataFrame for the above calculations called per_school_summary (4 points)\n",
    "\n",
    "per_school_summary = pd.DataFrame({\n",
    "    'School Type':[school_types],\n",
    "    'Total Students':[students_per_school],\n",
    "    'Total School Budget':[school_budget],\n",
    "    'Per Student Budget':[per_capita],\n",
    "    'Average Math Score':[per_school_math],\n",
    "    'Average Reading Score':[per_school_read],\n",
    "    '% Passing Math':[school_passing_math_percent],\n",
    "    '% Passing Reading':[school_passing_read_percent],\n",
    "    '% Overall Passing':[overall_passing_rate]\n",
    "})\n",
    "\n",
    "#per_school_summary[\"Total School Budget\"] = per_school_summary[\"Total School Budget\"].map(\"{:,}\".format)\n",
    "#per_school_summary[\"Per Student Budget\"] = per_school_summary[\"Per Student Budget\"].map(\"${:,.2f}\".format)\n",
    "per_school_summary"
   ]
  },
  {
   "cell_type": "code",
   "execution_count": null,
   "id": "39bfb3a1-d317-40e9-bee4-555d59f7c7d2",
   "metadata": {},
   "outputs": [],
   "source": []
  },
  {
   "cell_type": "markdown",
   "id": "d714fd8d-1225-4781-8e47-c4e5a9350d8b",
   "metadata": {},
   "source": [
    "highest performing schools\n",
    "\n",
    "Sort the schools by % Overall Passing in descending order (2 points)\n",
    "\n",
    "Save the results to a DataFrame called top_schools (2 points)\n",
    "\n",
    "Display the first 5 rows (1 point)"
   ]
  },
  {
   "cell_type": "code",
   "execution_count": null,
   "id": "d959430d-9cd0-4415-ac6b-1ae38f0d4173",
   "metadata": {},
   "outputs": [],
   "source": []
  },
  {
   "cell_type": "markdown",
   "id": "2c70e931-3e78-4a11-9160-e05a403297e9",
   "metadata": {},
   "source": [
    "lowest performing schools\n",
    "\n",
    "Sort the schools by % Overall Passing in ascending order (2 points)\n",
    "\n",
    "Save the results to a DataFrame called bottom_schools (2 points)\n",
    "\n",
    "Display the first 5 rows (1 point)"
   ]
  },
  {
   "cell_type": "code",
   "execution_count": null,
   "id": "7cd6d40e-f6bf-4307-a9b8-8c836d74fe4f",
   "metadata": {},
   "outputs": [],
   "source": []
  },
  {
   "cell_type": "markdown",
   "id": "ddce36c2-5723-48a3-b24e-29a4960322ea",
   "metadata": {},
   "source": [
    "math scores by grade\n",
    "\n",
    "Use the code provided to separate the data by grade (1 points)\n",
    "\n",
    "Group by \"school_name\" and take the mean of each (4 points)\n",
    "\n",
    "Use the code to select only the math_score (1 points)\n",
    "\n",
    "Combine each of the scores above into single DataFrame called math_scores_by_grade (4 points)"
   ]
  },
  {
   "cell_type": "code",
   "execution_count": null,
   "id": "d37ac0c6-47e4-4012-be25-b647c3ac2bec",
   "metadata": {},
   "outputs": [],
   "source": []
  },
  {
   "cell_type": "markdown",
   "id": "dc2f4c4c-477d-4053-a1d1-071fb9e4abfa",
   "metadata": {},
   "source": [
    "reading scores by grade\n",
    "\n",
    "Use the code provided to separate the data by grade (1 points)\n",
    "\n",
    "Group by \"school_name\" and take the mean of each (4 points)\n",
    "\n",
    "Use the code to select only the reading_score (1 points)\n",
    "\n",
    "Combine each of the scores above into single DataFrame called reading_scores_by_grade (4 points)"
   ]
  },
  {
   "cell_type": "code",
   "execution_count": null,
   "id": "6d6ff739-782f-4844-a933-f921924be838",
   "metadata": {},
   "outputs": [],
   "source": []
  },
  {
   "cell_type": "markdown",
   "id": "981eeae5-e6bf-45dc-8138-4e0f09d51c74",
   "metadata": {},
   "source": [
    "scores by school spending\n",
    "\n",
    "Use pd.cut with the provided code to bin the data by the spending ranges (2 points)\n",
    "\n",
    "Use the code provided to calculate the averages (1 points)\n",
    "\n",
    "Create the spending_summary DataFrame using the binned and averaged spending data (2 points)"
   ]
  },
  {
   "cell_type": "code",
   "execution_count": null,
   "id": "e4e809b5-1848-44b2-8f61-c14e2d9f0c45",
   "metadata": {},
   "outputs": [],
   "source": []
  },
  {
   "cell_type": "code",
   "execution_count": null,
   "id": "bb2e8f30-1ed8-40ef-bbf4-65956cac7411",
   "metadata": {},
   "outputs": [],
   "source": [
    "# Create a table that breaks down school performance based on average spending ranges (per student).\n",
    "# Use the code provided below to create four bins with reasonable cutoff values to group school spending.\n",
    "# spending_bins = [0, 585, 630, 645, 680]\n",
    "# labels = [\"<$585\", \"$585-630\", \"$630-645\", \"$645-680\"]\n",
    "\n",
    "# Use pd.cut to categorize spending based on the bins.\n",
    "# Use the following code to then calculate mean scores per spending range.\n",
    "\n",
    "# spending_math_scores = school_spending_df.groupby([\"Spending Ranges (Per Student)\"])[\"Average Math Score\"].mean()\n",
    "\n",
    "# spending_reading_scores = school_spending_df.groupby([\"Spending Ranges (Per Student)\"])[\"Average Reading Score\"].mean()\n",
    "\n",
    "# spending_passing_math = school_spending_df.groupby([\"Spending Ranges (Per Student)\"])[\"% Passing Math\"].mean()\n",
    "\n",
    "# spending_passing_reading = school_spending_df.groupby([\"Spending Ranges (Per Student)\"])[\"% Passing Reading\"].mean()\n",
    "\n",
    "# overall_passing_spending = school_spending_df.groupby([\"Spending Ranges (Per Student)\"])[\"% Overall Passing\"].mean()\n",
    "\n",
    "# Use the scores above to create a DataFrame called spending_summary.\n",
    "# Include the following metrics in the table:\n",
    "# •\tAverage math score\n",
    "# •\tAverage reading score\n",
    "# •\t% passing math (the percentage of students who passed math)\n",
    "# •\t% passing reading (the percentage of students who passed reading)\n",
    "# •\t% overall passing (the percentage of students who passed math AND reading)\n"
   ]
  },
  {
   "cell_type": "code",
   "execution_count": null,
   "id": "9a013f9d-0662-4819-a2bd-589cb9bfd893",
   "metadata": {},
   "outputs": [],
   "source": []
  },
  {
   "cell_type": "markdown",
   "id": "20022a03-5733-43c9-8579-2202fc333792",
   "metadata": {},
   "source": [
    "scores by school size\n",
    "\n",
    "Use pd.cut with the provided code to bin the data by the school sizes (2 points)\n",
    "\n",
    "Use the code provided to calculate the averages (1 points)\n",
    "\n",
    "Create the size_summary DataFrame using the binned and averaged size data (2 points)"
   ]
  },
  {
   "cell_type": "code",
   "execution_count": null,
   "id": "be524378-d34a-4cfa-9cea-d2328a3339a4",
   "metadata": {},
   "outputs": [],
   "source": [
    "# Use the following code to bin the per_school_summary.\n",
    "\n",
    "# size_bins = [0, 1000, 2000, 5000]\n",
    "\n",
    "# labels = [\"Small (<1000)\", \"Medium (1000-2000)\", \"Large (2000-5000)\"]\n",
    "# Use pd.cut on the \"Total Students\" column of the per_school_summary DataFrame.\n",
    "# Create a DataFrame called size_summary that breaks down school performance based on school size (small, medium, or large).\n"
   ]
  },
  {
   "cell_type": "markdown",
   "id": "2c50d977-bd90-43ae-a9b5-39b48521d057",
   "metadata": {},
   "source": [
    "scores by school type\n",
    "\n",
    "Group the per_school_summary DataFrame by \"School Type\" and average the results (2 points)\n",
    "\n",
    "Use the code provided to select the new column data (1 point)\n",
    "\n",
    "Create a new DataFrame called type_summary that uses the new column data (2 points)"
   ]
  },
  {
   "cell_type": "code",
   "execution_count": null,
   "id": "bef768dc-2466-4340-b718-9150c2f783e6",
   "metadata": {},
   "outputs": [],
   "source": [
    "# Use the per_school_summary DataFrame from the previous step to create a new DataFrame called type_summary.\n",
    "# This new DataFrame should show school performance based on the \"School Type\".\n"
   ]
  }
 ],
 "metadata": {
  "kernelspec": {
   "display_name": "Python 3 (ipykernel)",
   "language": "python",
   "name": "python3"
  },
  "language_info": {
   "codemirror_mode": {
    "name": "ipython",
    "version": 3
   },
   "file_extension": ".py",
   "mimetype": "text/x-python",
   "name": "python",
   "nbconvert_exporter": "python",
   "pygments_lexer": "ipython3",
   "version": "3.11.3"
  }
 },
 "nbformat": 4,
 "nbformat_minor": 5
}
